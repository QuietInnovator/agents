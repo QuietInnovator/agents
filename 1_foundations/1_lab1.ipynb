{
 "cells": [
  {
   "cell_type": "markdown",
   "metadata": {},
   "source": [
    "# Welcome to the start of your adventure in Agentic AI"
   ]
  },
  {
   "cell_type": "markdown",
   "metadata": {},
   "source": [
    "<table style=\"margin: 0; text-align: left; width:100%\">\n",
    "    <tr>\n",
    "        <td style=\"width: 150px; height: 150px; vertical-align: middle;\">\n",
    "            <img src=\"../assets/stop.png\" width=\"150\" height=\"150\" style=\"display: block;\" />\n",
    "        </td>\n",
    "        <td>\n",
    "            <h2 style=\"color:#ff7800;\">Are you ready for action??</h2>\n",
    "            <span style=\"color:#ff7800;\">Have you completed all the setup steps in the <a href=\"../setup/\">setup</a> folder?<br/>\n",
    "            Have you checked out the guides in the <a href=\"../guides/01_intro.ipynb\">guides</a> folder?<br/>\n",
    "            Well in that case, you're ready!!\n",
    "            </span>\n",
    "        </td>\n",
    "    </tr>\n",
    "</table>"
   ]
  },
  {
   "cell_type": "markdown",
   "metadata": {},
   "source": [
    "<table style=\"margin: 0; text-align: left; width:100%\">\n",
    "    <tr>\n",
    "        <td style=\"width: 150px; height: 150px; vertical-align: middle;\">\n",
    "            <img src=\"../assets/tools.png\" width=\"150\" height=\"150\" style=\"display: block;\" />\n",
    "        </td>\n",
    "        <td>\n",
    "            <h2 style=\"color:#00bfff;\">Treat these labs as a resource</h2>\n",
    "            <span style=\"color:#00bfff;\">I push updates to the code regularly. When people ask questions or have problems, I incorporate it in the code, adding more examples or improved commentary. As a result, you'll notice that the code below isn't identical to the videos. Everything from the videos is here; but in addition, I've added more steps and better explanations. Consider this like an interactive book that accompanies the lectures.\n",
    "            </span>\n",
    "        </td>\n",
    "    </tr>\n",
    "</table>"
   ]
  },
  {
   "cell_type": "markdown",
   "metadata": {},
   "source": [
    "### And please do remember to contact me if I can help\n",
    "\n",
    "And I love to connect: https://www.linkedin.com/in/eddonner/\n",
    "\n",
    "\n",
    "### New to Notebooks like this one? Head over to the guides folder!\n",
    "\n",
    "Just to check you've already added the Python and Jupyter extensions to Cursor, if not already installed:\n",
    "- Open extensions (View >> extensions)\n",
    "- Search for python, and when the results show, click on the ms-python one, and Install it if not already installed\n",
    "- Search for jupyter, and when the results show, click on the Microsoft one, and Install it if not already installed  \n",
    "Then View >> Explorer to bring back the File Explorer.\n",
    "\n",
    "And then:\n",
    "1. Click where it says \"Select Kernel\" near the top right, and select the option called `.venv (Python 3.12.9)` or similar, which should be the first choice or the most prominent choice. You may need to choose \"Python Environments\" first.\n",
    "2. Click in each \"cell\" below, starting with the cell immediately below this text, and press Shift+Enter to run\n",
    "3. Enjoy!\n",
    "\n",
    "After you click \"Select Kernel\", if there is no option like `.venv (Python 3.12.9)` then please do the following:  \n",
    "1. From the Cursor menu, choose Settings >> VSCode Settings (NOTE: be sure to select `VSCode Settings` not `Cursor Settings`)  \n",
    "2. In the Settings search bar, type \"venv\"  \n",
    "3. In the field \"Path to folder with a list of Virtual Environments\" put the path to the project root, like C:\\Users\\username\\projects\\agents (on a Windows PC) or /Users/username/projects/agents (on Mac or Linux).  \n",
    "And then try again.\n",
    "\n",
    "Having problems with missing Python versions in that list? Have you ever used Anaconda before? It might be interferring. Quit Cursor, bring up a new command line, and make sure that your Anaconda environment is deactivated:    \n",
    "`conda deactivate`  \n",
    "And if you still have any problems with conda and python versions, it's possible that you will need to run this too:  \n",
    "`conda config --set auto_activate_base false`  \n",
    "and then from within the Agents directory, you should be able to run `uv python list` and see the Python 3.12 version."
   ]
  },
  {
   "cell_type": "code",
   "execution_count": 2,
   "metadata": {},
   "outputs": [],
   "source": [
    "# First let's do an import\n",
    "from dotenv import load_dotenv\n"
   ]
  },
  {
   "cell_type": "code",
   "execution_count": 3,
   "metadata": {},
   "outputs": [
    {
     "data": {
      "text/plain": [
       "True"
      ]
     },
     "execution_count": 3,
     "metadata": {},
     "output_type": "execute_result"
    }
   ],
   "source": [
    "# Next it's time to load the API keys into environment variables\n",
    "\n",
    "load_dotenv(override=True)"
   ]
  },
  {
   "cell_type": "code",
   "execution_count": 5,
   "metadata": {},
   "outputs": [
    {
     "name": "stdout",
     "output_type": "stream",
     "text": [
      "OpenAI API Key exists and begins sk-proj-m\n"
     ]
    }
   ],
   "source": [
    "# Check the keys\n",
    "\n",
    "import os\n",
    "openai_api_key = os.getenv('OPENAI_API_KEY')\n",
    "\n",
    "if openai_api_key:\n",
    "    print(f\"OpenAI API Key exists and begins {openai_api_key[:9]}\")\n",
    "else:\n",
    "    print(\"OpenAI API Key not set - please head to the troubleshooting guide in the guides folder\")\n",
    "    \n"
   ]
  },
  {
   "cell_type": "code",
   "execution_count": 6,
   "metadata": {},
   "outputs": [],
   "source": [
    "# And now - the all important import statement\n",
    "# If you get an import error - head over to troubleshooting guide\n",
    "\n",
    "from openai import OpenAI"
   ]
  },
  {
   "cell_type": "code",
   "execution_count": 7,
   "metadata": {},
   "outputs": [],
   "source": [
    "# And now we'll create an instance of the OpenAI class\n",
    "# If you're not sure what it means to create an instance of a class - head over to the guides folder!\n",
    "# If you get a NameError - head over to the guides folder to learn about NameErrors\n",
    "\n",
    "openai = OpenAI()"
   ]
  },
  {
   "cell_type": "code",
   "execution_count": 8,
   "metadata": {},
   "outputs": [],
   "source": [
    "# Create a list of messages in the familiar OpenAI format\n",
    "\n",
    "messages = [{\"role\": \"user\", \"content\": \"What is 2+2?\"}]"
   ]
  },
  {
   "cell_type": "code",
   "execution_count": 9,
   "metadata": {},
   "outputs": [
    {
     "name": "stdout",
     "output_type": "stream",
     "text": [
      "2 + 2 equals 4.\n"
     ]
    }
   ],
   "source": [
    "# And now call it! Any problems, head to the troubleshooting guide\n",
    "\n",
    "response = openai.chat.completions.create(\n",
    "    model=\"gpt-4o-mini\",\n",
    "    messages=messages\n",
    ")\n",
    "\n",
    "print(response.choices[0].message.content)\n"
   ]
  },
  {
   "cell_type": "code",
   "execution_count": 10,
   "metadata": {},
   "outputs": [],
   "source": [
    "# And now - let's ask for a question:\n",
    "\n",
    "question = \"Please propose a hard, challenging question to assess someone's IQ. Respond only with the question.\"\n",
    "messages = [{\"role\": \"user\", \"content\": question}]\n"
   ]
  },
  {
   "cell_type": "code",
   "execution_count": 11,
   "metadata": {},
   "outputs": [
    {
     "name": "stdout",
     "output_type": "stream",
     "text": [
      "If a train leaves Station A traveling at 60 miles per hour and another train leaves Station B, which is 180 miles away from Station A, traveling at 90 miles per hour, at what point will the two trains meet, assuming they leave at the same time?\n"
     ]
    }
   ],
   "source": [
    "# ask it\n",
    "response = openai.chat.completions.create(\n",
    "    model=\"gpt-4o-mini\",\n",
    "    messages=messages\n",
    ")\n",
    "\n",
    "question = response.choices[0].message.content\n",
    "\n",
    "print(question)\n"
   ]
  },
  {
   "cell_type": "code",
   "execution_count": 12,
   "metadata": {},
   "outputs": [],
   "source": [
    "# form a new messages list\n",
    "messages = [{\"role\": \"user\", \"content\": question}]\n"
   ]
  },
  {
   "cell_type": "code",
   "execution_count": 13,
   "metadata": {},
   "outputs": [
    {
     "name": "stdout",
     "output_type": "stream",
     "text": [
      "To determine when and where the two trains will meet, we first need to calculate how long it will take for the two trains to meet after they start traveling.\n",
      "\n",
      "Let's denote:\n",
      "- The distance between the two stations as \\( D = 180 \\) miles.\n",
      "- The speed of Train A (leaving Station A) as \\( v_A = 60 \\) miles per hour.\n",
      "- The speed of Train B (leaving Station B) as \\( v_B = 90 \\) miles per hour.\n",
      "\n",
      "Since the trains are moving towards each other, we can combine their speeds to find their relative speed:\n",
      "\\[\n",
      "\\text{Relative speed} = v_A + v_B = 60 + 90 = 150 \\text{ miles per hour}.\n",
      "\\]\n",
      "\n",
      "Next, we can set up the equation for the time (\\( t \\)) it will take for the two trains to meet. The total distance \\( D \\) between them is covered by their combined speeds over time:\n",
      "\\[\n",
      "D = \\text{Relative speed} \\times t.\n",
      "\\]\n",
      "Plugging in the known values:\n",
      "\\[\n",
      "180 = 150t.\n",
      "\\]\n",
      "Now we can solve for \\( t \\):\n",
      "\\[\n",
      "t = \\frac{180}{150} = 1.2 \\text{ hours}.\n",
      "\\]\n",
      "\n",
      "Now that we have the time, we can find out how far each train has traveled when they meet:\n",
      "- Distance traveled by Train A:\n",
      "\\[\n",
      "\\text{Distance}_A = v_A \\times t = 60 \\times 1.2 = 72 \\text{ miles}.\n",
      "\\]\n",
      "- Distance traveled by Train B:\n",
      "\\[\n",
      "\\text{Distance}_B = v_B \\times t = 90 \\times 1.2 = 108 \\text{ miles}.\n",
      "\\]\n",
      "\n",
      "Therefore, the two trains will meet 72 miles from Station A (the starting point of Train A) or equivalently, 108 miles from Station B (the starting point of Train B).\n",
      "\n",
      "Summarizing, the two trains will meet 72 miles from Station A (or equivalently, 108 miles from Station B) after 1.2 hours.\n"
     ]
    }
   ],
   "source": [
    "# Ask it again\n",
    "\n",
    "response = openai.chat.completions.create(\n",
    "    model=\"gpt-4o-mini\",\n",
    "    messages=messages\n",
    ")\n",
    "\n",
    "answer = response.choices[0].message.content\n",
    "print(answer)\n"
   ]
  },
  {
   "cell_type": "code",
   "execution_count": 14,
   "metadata": {},
   "outputs": [
    {
     "data": {
      "text/markdown": [
       "To determine when and where the two trains will meet, we first need to calculate how long it will take for the two trains to meet after they start traveling.\n",
       "\n",
       "Let's denote:\n",
       "- The distance between the two stations as \\( D = 180 \\) miles.\n",
       "- The speed of Train A (leaving Station A) as \\( v_A = 60 \\) miles per hour.\n",
       "- The speed of Train B (leaving Station B) as \\( v_B = 90 \\) miles per hour.\n",
       "\n",
       "Since the trains are moving towards each other, we can combine their speeds to find their relative speed:\n",
       "\\[\n",
       "\\text{Relative speed} = v_A + v_B = 60 + 90 = 150 \\text{ miles per hour}.\n",
       "\\]\n",
       "\n",
       "Next, we can set up the equation for the time (\\( t \\)) it will take for the two trains to meet. The total distance \\( D \\) between them is covered by their combined speeds over time:\n",
       "\\[\n",
       "D = \\text{Relative speed} \\times t.\n",
       "\\]\n",
       "Plugging in the known values:\n",
       "\\[\n",
       "180 = 150t.\n",
       "\\]\n",
       "Now we can solve for \\( t \\):\n",
       "\\[\n",
       "t = \\frac{180}{150} = 1.2 \\text{ hours}.\n",
       "\\]\n",
       "\n",
       "Now that we have the time, we can find out how far each train has traveled when they meet:\n",
       "- Distance traveled by Train A:\n",
       "\\[\n",
       "\\text{Distance}_A = v_A \\times t = 60 \\times 1.2 = 72 \\text{ miles}.\n",
       "\\]\n",
       "- Distance traveled by Train B:\n",
       "\\[\n",
       "\\text{Distance}_B = v_B \\times t = 90 \\times 1.2 = 108 \\text{ miles}.\n",
       "\\]\n",
       "\n",
       "Therefore, the two trains will meet 72 miles from Station A (the starting point of Train A) or equivalently, 108 miles from Station B (the starting point of Train B).\n",
       "\n",
       "Summarizing, the two trains will meet 72 miles from Station A (or equivalently, 108 miles from Station B) after 1.2 hours."
      ],
      "text/plain": [
       "<IPython.core.display.Markdown object>"
      ]
     },
     "metadata": {},
     "output_type": "display_data"
    }
   ],
   "source": [
    "from IPython.display import Markdown, display\n",
    "\n",
    "display(Markdown(answer))\n",
    "\n"
   ]
  },
  {
   "cell_type": "markdown",
   "metadata": {},
   "source": [
    "# Congratulations!\n",
    "\n",
    "That was a small, simple step in the direction of Agentic AI, with your new environment!\n",
    "\n",
    "Next time things get more interesting..."
   ]
  },
  {
   "cell_type": "markdown",
   "metadata": {},
   "source": [
    "<table style=\"margin: 0; text-align: left; width:100%\">\n",
    "    <tr>\n",
    "        <td style=\"width: 150px; height: 150px; vertical-align: middle;\">\n",
    "            <img src=\"../assets/exercise.png\" width=\"150\" height=\"150\" style=\"display: block;\" />\n",
    "        </td>\n",
    "        <td>\n",
    "            <h2 style=\"color:#ff7800;\">Exercise</h2>\n",
    "            <span style=\"color:#ff7800;\">Now try this commercial application:<br/>\n",
    "            First ask the LLM to pick a business area that might be worth exploring for an Agentic AI opportunity.<br/>\n",
    "            Then ask the LLM to present a pain-point in that industry - something challenging that might be ripe for an Agentic solution.<br/>\n",
    "            Finally have 3 third LLM call propose the Agentic AI solution.\n",
    "            </span>\n",
    "        </td>\n",
    "    </tr>\n",
    "</table>"
   ]
  },
  {
   "cell_type": "code",
   "execution_count": 17,
   "metadata": {},
   "outputs": [
    {
     "name": "stdout",
     "output_type": "stream",
     "text": [
      "### Business: E-commerce\n",
      "\n",
      "### Pain Point: Cart Abandonment\n",
      "\n",
      "E-commerce businesses often struggle with high rates of cart abandonment, where customers add items to their shopping carts but abandon the checkout process. This can result in lost sales and decreased conversion rates.\n",
      "\n",
      "### Agentic AI Solution: Intelligent Abandonment Recovery\n",
      "\n",
      "**Overview:**\n",
      "An Agentic AI solution could be developed to address cart abandonment by engaging customers in real-time and providing personalized follow-up messages.\n",
      "\n",
      "**Key Features:**\n",
      "\n",
      "1. **Real-time Cart Monitoring:**\n",
      "   - The AI monitors user activity and identifies when a customer adds items to their cart but does not proceed to checkout.\n",
      "\n",
      "2. **Personalized Reminders:**\n",
      "   - Automated reminders are sent via email, SMS, or push notifications, tailored to the customer’s preferences and past purchasing behavior.\n",
      "\n",
      "3. **Dynamic Incentives:**\n",
      "   - The AI can analyze customer data to determine if a discount, free shipping, or a limited-time offer could be applied to encourage completion of the purchase.\n",
      "\n",
      "4. **Chatbot Engagement:**\n",
      "   - An intelligent chatbot engages with the customer via live chat on the website, addressing potential concerns or barriers that might prevent them from completing their purchase.\n",
      "\n",
      "5. **Predictive Analysis:**\n",
      "   - Using machine learning algorithms, the AI can predict which customers are likely to abandon their carts and prioritize outreach efforts accordingly, increasing the chances of recovery.\n",
      "\n",
      "6. **A/B Testing Capabilities:**\n",
      "   - The solution can run A/B tests on various recovery strategies (e.g., different messaging approaches, timing of messages, or incentives) to continuously optimize methods for cart recovery.\n",
      "\n",
      "### Impact:\n",
      "By implementing this Agentic AI solution, e-commerce businesses can reduce cart abandonment rates, improve customer engagement, and ultimately increase revenue. The personalized approach enhances the shopping experience, making customers feel valued and understood, which can foster brand loyalty.\n"
     ]
    }
   ],
   "source": [
    "# First create the messages:\n",
    "\n",
    "messages = [{\"role\": \"user\", \"content\": \"Please pick a business, pain point and Agentic AI solution.\"}]\n",
    "\n",
    "# Then make the first call:\n",
    "\n",
    "response = openai.chat.completions.create(\n",
    "    model=\"gpt-4o-mini\",\n",
    "    messages=messages\n",
    ")\n",
    "\n",
    "# Then read the business idea:\n",
    "\n",
    "business_idea = response.choices[0].message.content\n",
    "display(Markdown(business_idea))\n",
    "# And repeat!\n"
   ]
  },
  {
   "cell_type": "markdown",
   "metadata": {},
   "source": []
  },
  {
   "cell_type": "code",
   "execution_count": 18,
   "metadata": {},
   "outputs": [
    {
     "data": {
      "text/markdown": [
       "### Business: E-commerce\n",
       "\n",
       "### Pain Point: Cart Abandonment\n",
       "\n",
       "E-commerce businesses often struggle with high rates of cart abandonment, where customers add items to their shopping carts but abandon the checkout process. This can result in lost sales and decreased conversion rates.\n",
       "\n",
       "### Agentic AI Solution: Intelligent Abandonment Recovery\n",
       "\n",
       "**Overview:**\n",
       "An Agentic AI solution could be developed to address cart abandonment by engaging customers in real-time and providing personalized follow-up messages.\n",
       "\n",
       "**Key Features:**\n",
       "\n",
       "1. **Real-time Cart Monitoring:**\n",
       "   - The AI monitors user activity and identifies when a customer adds items to their cart but does not proceed to checkout.\n",
       "\n",
       "2. **Personalized Reminders:**\n",
       "   - Automated reminders are sent via email, SMS, or push notifications, tailored to the customer’s preferences and past purchasing behavior.\n",
       "\n",
       "3. **Dynamic Incentives:**\n",
       "   - The AI can analyze customer data to determine if a discount, free shipping, or a limited-time offer could be applied to encourage completion of the purchase.\n",
       "\n",
       "4. **Chatbot Engagement:**\n",
       "   - An intelligent chatbot engages with the customer via live chat on the website, addressing potential concerns or barriers that might prevent them from completing their purchase.\n",
       "\n",
       "5. **Predictive Analysis:**\n",
       "   - Using machine learning algorithms, the AI can predict which customers are likely to abandon their carts and prioritize outreach efforts accordingly, increasing the chances of recovery.\n",
       "\n",
       "6. **A/B Testing Capabilities:**\n",
       "   - The solution can run A/B tests on various recovery strategies (e.g., different messaging approaches, timing of messages, or incentives) to continuously optimize methods for cart recovery.\n",
       "\n",
       "### Impact:\n",
       "By implementing this Agentic AI solution, e-commerce businesses can reduce cart abandonment rates, improve customer engagement, and ultimately increase revenue. The personalized approach enhances the shopping experience, making customers feel valued and understood, which can foster brand loyalty."
      ],
      "text/plain": [
       "<IPython.core.display.Markdown object>"
      ]
     },
     "metadata": {},
     "output_type": "display_data"
    }
   ],
   "source": [
    "display(Markdown(business_idea))\n"
   ]
  },
  {
   "cell_type": "code",
   "execution_count": null,
   "metadata": {},
   "outputs": [],
   "source": []
  }
 ],
 "metadata": {
  "kernelspec": {
   "display_name": ".venv",
   "language": "python",
   "name": "python3"
  },
  "language_info": {
   "codemirror_mode": {
    "name": "ipython",
    "version": 3
   },
   "file_extension": ".py",
   "mimetype": "text/x-python",
   "name": "python",
   "nbconvert_exporter": "python",
   "pygments_lexer": "ipython3",
   "version": "3.12.9"
  }
 },
 "nbformat": 4,
 "nbformat_minor": 2
}
